{
  "nbformat": 4,
  "nbformat_minor": 0,
  "metadata": {
    "colab": {
      "provenance": []
    },
    "kernelspec": {
      "name": "python3",
      "display_name": "Python 3"
    },
    "accelerator": "GPU",
    "widgets": {
      "application/vnd.jupyter.widget-state+json": {
        "944cd4d6901a472b9e6c9644c251b4a4": {
          "model_module": "@jupyter-widgets/controls",
          "model_name": "HBoxModel",
          "model_module_version": "1.5.0",
          "state": {
            "_dom_classes": [],
            "_model_module": "@jupyter-widgets/controls",
            "_model_module_version": "1.5.0",
            "_model_name": "HBoxModel",
            "_view_count": null,
            "_view_module": "@jupyter-widgets/controls",
            "_view_module_version": "1.5.0",
            "_view_name": "HBoxView",
            "box_style": "",
            "children": [
              "IPY_MODEL_2c54e757116a45b5a68705bd7e92e597",
              "IPY_MODEL_1a87f39296fa4ed2985f42806fb6f991",
              "IPY_MODEL_40be4e0db3fd4524ad8747b6d785f9af"
            ],
            "layout": "IPY_MODEL_948f2fd5aafe4f8187349b1d699ac532"
          }
        },
        "2c54e757116a45b5a68705bd7e92e597": {
          "model_module": "@jupyter-widgets/controls",
          "model_name": "HTMLModel",
          "model_module_version": "1.5.0",
          "state": {
            "_dom_classes": [],
            "_model_module": "@jupyter-widgets/controls",
            "_model_module_version": "1.5.0",
            "_model_name": "HTMLModel",
            "_view_count": null,
            "_view_module": "@jupyter-widgets/controls",
            "_view_module_version": "1.5.0",
            "_view_name": "HTMLView",
            "description": "",
            "description_tooltip": null,
            "layout": "IPY_MODEL_4d929164eda44d11b6ed14bc03626626",
            "placeholder": "​",
            "style": "IPY_MODEL_b72162db4bd148aeababb1ee67a8489e",
            "value": "100%"
          }
        },
        "1a87f39296fa4ed2985f42806fb6f991": {
          "model_module": "@jupyter-widgets/controls",
          "model_name": "FloatProgressModel",
          "model_module_version": "1.5.0",
          "state": {
            "_dom_classes": [],
            "_model_module": "@jupyter-widgets/controls",
            "_model_module_version": "1.5.0",
            "_model_name": "FloatProgressModel",
            "_view_count": null,
            "_view_module": "@jupyter-widgets/controls",
            "_view_module_version": "1.5.0",
            "_view_name": "ProgressView",
            "bar_style": "success",
            "description": "",
            "description_tooltip": null,
            "layout": "IPY_MODEL_216284b341764f8ea88082ade9514200",
            "max": 244715968,
            "min": 0,
            "orientation": "horizontal",
            "style": "IPY_MODEL_60076131365c498fb153ed5081a9b71b",
            "value": 244715968
          }
        },
        "40be4e0db3fd4524ad8747b6d785f9af": {
          "model_module": "@jupyter-widgets/controls",
          "model_name": "HTMLModel",
          "model_module_version": "1.5.0",
          "state": {
            "_dom_classes": [],
            "_model_module": "@jupyter-widgets/controls",
            "_model_module_version": "1.5.0",
            "_model_name": "HTMLModel",
            "_view_count": null,
            "_view_module": "@jupyter-widgets/controls",
            "_view_module_version": "1.5.0",
            "_view_name": "HTMLView",
            "description": "",
            "description_tooltip": null,
            "layout": "IPY_MODEL_61e281b8612449bdb8b207a65be7ab63",
            "placeholder": "​",
            "style": "IPY_MODEL_35c32f271f0b40ac9ef926bf406bf409",
            "value": " 245M/245M [00:09&lt;00:00, 19.5MB/s]"
          }
        },
        "948f2fd5aafe4f8187349b1d699ac532": {
          "model_module": "@jupyter-widgets/base",
          "model_name": "LayoutModel",
          "model_module_version": "1.2.0",
          "state": {
            "_model_module": "@jupyter-widgets/base",
            "_model_module_version": "1.2.0",
            "_model_name": "LayoutModel",
            "_view_count": null,
            "_view_module": "@jupyter-widgets/base",
            "_view_module_version": "1.2.0",
            "_view_name": "LayoutView",
            "align_content": null,
            "align_items": null,
            "align_self": null,
            "border": null,
            "bottom": null,
            "display": null,
            "flex": null,
            "flex_flow": null,
            "grid_area": null,
            "grid_auto_columns": null,
            "grid_auto_flow": null,
            "grid_auto_rows": null,
            "grid_column": null,
            "grid_gap": null,
            "grid_row": null,
            "grid_template_areas": null,
            "grid_template_columns": null,
            "grid_template_rows": null,
            "height": null,
            "justify_content": null,
            "justify_items": null,
            "left": null,
            "margin": null,
            "max_height": null,
            "max_width": null,
            "min_height": null,
            "min_width": null,
            "object_fit": null,
            "object_position": null,
            "order": null,
            "overflow": null,
            "overflow_x": null,
            "overflow_y": null,
            "padding": null,
            "right": null,
            "top": null,
            "visibility": null,
            "width": null
          }
        },
        "4d929164eda44d11b6ed14bc03626626": {
          "model_module": "@jupyter-widgets/base",
          "model_name": "LayoutModel",
          "model_module_version": "1.2.0",
          "state": {
            "_model_module": "@jupyter-widgets/base",
            "_model_module_version": "1.2.0",
            "_model_name": "LayoutModel",
            "_view_count": null,
            "_view_module": "@jupyter-widgets/base",
            "_view_module_version": "1.2.0",
            "_view_name": "LayoutView",
            "align_content": null,
            "align_items": null,
            "align_self": null,
            "border": null,
            "bottom": null,
            "display": null,
            "flex": null,
            "flex_flow": null,
            "grid_area": null,
            "grid_auto_columns": null,
            "grid_auto_flow": null,
            "grid_auto_rows": null,
            "grid_column": null,
            "grid_gap": null,
            "grid_row": null,
            "grid_template_areas": null,
            "grid_template_columns": null,
            "grid_template_rows": null,
            "height": null,
            "justify_content": null,
            "justify_items": null,
            "left": null,
            "margin": null,
            "max_height": null,
            "max_width": null,
            "min_height": null,
            "min_width": null,
            "object_fit": null,
            "object_position": null,
            "order": null,
            "overflow": null,
            "overflow_x": null,
            "overflow_y": null,
            "padding": null,
            "right": null,
            "top": null,
            "visibility": null,
            "width": null
          }
        },
        "b72162db4bd148aeababb1ee67a8489e": {
          "model_module": "@jupyter-widgets/controls",
          "model_name": "DescriptionStyleModel",
          "model_module_version": "1.5.0",
          "state": {
            "_model_module": "@jupyter-widgets/controls",
            "_model_module_version": "1.5.0",
            "_model_name": "DescriptionStyleModel",
            "_view_count": null,
            "_view_module": "@jupyter-widgets/base",
            "_view_module_version": "1.2.0",
            "_view_name": "StyleView",
            "description_width": ""
          }
        },
        "216284b341764f8ea88082ade9514200": {
          "model_module": "@jupyter-widgets/base",
          "model_name": "LayoutModel",
          "model_module_version": "1.2.0",
          "state": {
            "_model_module": "@jupyter-widgets/base",
            "_model_module_version": "1.2.0",
            "_model_name": "LayoutModel",
            "_view_count": null,
            "_view_module": "@jupyter-widgets/base",
            "_view_module_version": "1.2.0",
            "_view_name": "LayoutView",
            "align_content": null,
            "align_items": null,
            "align_self": null,
            "border": null,
            "bottom": null,
            "display": null,
            "flex": null,
            "flex_flow": null,
            "grid_area": null,
            "grid_auto_columns": null,
            "grid_auto_flow": null,
            "grid_auto_rows": null,
            "grid_column": null,
            "grid_gap": null,
            "grid_row": null,
            "grid_template_areas": null,
            "grid_template_columns": null,
            "grid_template_rows": null,
            "height": null,
            "justify_content": null,
            "justify_items": null,
            "left": null,
            "margin": null,
            "max_height": null,
            "max_width": null,
            "min_height": null,
            "min_width": null,
            "object_fit": null,
            "object_position": null,
            "order": null,
            "overflow": null,
            "overflow_x": null,
            "overflow_y": null,
            "padding": null,
            "right": null,
            "top": null,
            "visibility": null,
            "width": null
          }
        },
        "60076131365c498fb153ed5081a9b71b": {
          "model_module": "@jupyter-widgets/controls",
          "model_name": "ProgressStyleModel",
          "model_module_version": "1.5.0",
          "state": {
            "_model_module": "@jupyter-widgets/controls",
            "_model_module_version": "1.5.0",
            "_model_name": "ProgressStyleModel",
            "_view_count": null,
            "_view_module": "@jupyter-widgets/base",
            "_view_module_version": "1.2.0",
            "_view_name": "StyleView",
            "bar_color": null,
            "description_width": ""
          }
        },
        "61e281b8612449bdb8b207a65be7ab63": {
          "model_module": "@jupyter-widgets/base",
          "model_name": "LayoutModel",
          "model_module_version": "1.2.0",
          "state": {
            "_model_module": "@jupyter-widgets/base",
            "_model_module_version": "1.2.0",
            "_model_name": "LayoutModel",
            "_view_count": null,
            "_view_module": "@jupyter-widgets/base",
            "_view_module_version": "1.2.0",
            "_view_name": "LayoutView",
            "align_content": null,
            "align_items": null,
            "align_self": null,
            "border": null,
            "bottom": null,
            "display": null,
            "flex": null,
            "flex_flow": null,
            "grid_area": null,
            "grid_auto_columns": null,
            "grid_auto_flow": null,
            "grid_auto_rows": null,
            "grid_column": null,
            "grid_gap": null,
            "grid_row": null,
            "grid_template_areas": null,
            "grid_template_columns": null,
            "grid_template_rows": null,
            "height": null,
            "justify_content": null,
            "justify_items": null,
            "left": null,
            "margin": null,
            "max_height": null,
            "max_width": null,
            "min_height": null,
            "min_width": null,
            "object_fit": null,
            "object_position": null,
            "order": null,
            "overflow": null,
            "overflow_x": null,
            "overflow_y": null,
            "padding": null,
            "right": null,
            "top": null,
            "visibility": null,
            "width": null
          }
        },
        "35c32f271f0b40ac9ef926bf406bf409": {
          "model_module": "@jupyter-widgets/controls",
          "model_name": "DescriptionStyleModel",
          "model_module_version": "1.5.0",
          "state": {
            "_model_module": "@jupyter-widgets/controls",
            "_model_module_version": "1.5.0",
            "_model_name": "DescriptionStyleModel",
            "_view_count": null,
            "_view_module": "@jupyter-widgets/base",
            "_view_module_version": "1.2.0",
            "_view_name": "StyleView",
            "description_width": ""
          }
        }
      }
    }
  },
  "cells": [
    {
      "cell_type": "code",
      "metadata": {
        "id": "_8BaaiJF4M6a",
        "colab": {
          "base_uri": "https://localhost:8080/"
        },
        "outputId": "89a2b49b-76e9-4ee8-c76e-88119d4766cc"
      },
      "source": [
        "# https://pypi.org/project/sentence-transformers/\n",
        "!pip install sentence-transformers==1.0.0 -q"
      ],
      "execution_count": 1,
      "outputs": [
        {
          "output_type": "stream",
          "name": "stdout",
          "text": [
            "\u001b[?25l     \u001b[90m━━━━━━━━━━━━━━━━━━━━━━━━━━━━━━━━━━━━━━━━\u001b[0m \u001b[32m0.0/74.8 kB\u001b[0m \u001b[31m?\u001b[0m eta \u001b[36m-:--:--\u001b[0m\r\u001b[2K     \u001b[90m━━━━━━━━━━━━━━━━━━━━━━━━━━━━━━━━━━━━━━━━\u001b[0m \u001b[32m74.8/74.8 kB\u001b[0m \u001b[31m2.2 MB/s\u001b[0m eta \u001b[36m0:00:00\u001b[0m\n",
            "\u001b[?25h  Preparing metadata (setup.py) ... \u001b[?25l\u001b[?25hdone\n",
            "\u001b[2K     \u001b[90m━━━━━━━━━━━━━━━━━━━━━━━━━━━━━━━━━━━━━━━━\u001b[0m \u001b[32m7.9/7.9 MB\u001b[0m \u001b[31m72.1 MB/s\u001b[0m eta \u001b[36m0:00:00\u001b[0m\n",
            "\u001b[2K     \u001b[90m━━━━━━━━━━━━━━━━━━━━━━━━━━━━━━━━━━━━━━━━\u001b[0m \u001b[32m1.3/1.3 MB\u001b[0m \u001b[31m79.4 MB/s\u001b[0m eta \u001b[36m0:00:00\u001b[0m\n",
            "\u001b[2K     \u001b[90m━━━━━━━━━━━━━━━━━━━━━━━━━━━━━━━━━━━━━━━━\u001b[0m \u001b[32m311.2/311.2 kB\u001b[0m \u001b[31m37.9 MB/s\u001b[0m eta \u001b[36m0:00:00\u001b[0m\n",
            "\u001b[2K     \u001b[90m━━━━━━━━━━━━━━━━━━━━━━━━━━━━━━━━━━━━━━━━\u001b[0m \u001b[32m3.8/3.8 MB\u001b[0m \u001b[31m114.7 MB/s\u001b[0m eta \u001b[36m0:00:00\u001b[0m\n",
            "\u001b[2K     \u001b[90m━━━━━━━━━━━━━━━━━━━━━━━━━━━━━━━━━━━━━━━━\u001b[0m \u001b[32m1.3/1.3 MB\u001b[0m \u001b[31m87.0 MB/s\u001b[0m eta \u001b[36m0:00:00\u001b[0m\n",
            "\u001b[2K     \u001b[90m━━━━━━━━━━━━━━━━━━━━━━━━━━━━━━━━━━━━━━━━\u001b[0m \u001b[32m295.0/295.0 kB\u001b[0m \u001b[31m37.5 MB/s\u001b[0m eta \u001b[36m0:00:00\u001b[0m\n",
            "\u001b[?25h  Building wheel for sentence-transformers (setup.py) ... \u001b[?25l\u001b[?25hdone\n"
          ]
        }
      ]
    },
    {
      "cell_type": "code",
      "metadata": {
        "id": "AKAGPtnV8sCA",
        "colab": {
          "base_uri": "https://localhost:8080/",
          "height": 49,
          "referenced_widgets": [
            "944cd4d6901a472b9e6c9644c251b4a4",
            "2c54e757116a45b5a68705bd7e92e597",
            "1a87f39296fa4ed2985f42806fb6f991",
            "40be4e0db3fd4524ad8747b6d785f9af",
            "948f2fd5aafe4f8187349b1d699ac532",
            "4d929164eda44d11b6ed14bc03626626",
            "b72162db4bd148aeababb1ee67a8489e",
            "216284b341764f8ea88082ade9514200",
            "60076131365c498fb153ed5081a9b71b",
            "61e281b8612449bdb8b207a65be7ab63",
            "35c32f271f0b40ac9ef926bf406bf409"
          ]
        },
        "outputId": "9ecd8a6a-98c1-4827-abc2-b858f2cc33b9"
      },
      "source": [
        "from sentence_transformers import SentenceTransformer, util\n",
        "BERT_model = SentenceTransformer('distilbert-base-nli-stsb-mean-tokens')"
      ],
      "execution_count": 2,
      "outputs": [
        {
          "output_type": "display_data",
          "data": {
            "text/plain": [
              "  0%|          | 0.00/245M [00:00<?, ?B/s]"
            ],
            "application/vnd.jupyter.widget-view+json": {
              "version_major": 2,
              "version_minor": 0,
              "model_id": "944cd4d6901a472b9e6c9644c251b4a4"
            }
          },
          "metadata": {}
        }
      ]
    },
    {
      "cell_type": "code",
      "metadata": {
        "colab": {
          "base_uri": "https://localhost:8080/"
        },
        "id": "Tl1XYhK154EN",
        "outputId": "55900cc4-a927-4fe3-9587-3834d3d219ad"
      },
      "source": [
        "possible_false_sentences = [\"The old woman was sitting under a tree and there were four men, each wearing dark clothing.\",\n",
        "                            \"The old woman was sitting under a tree and had to look at her face.\",\n",
        "                            \"The old woman was sitting under a tree and talking to the other lady, but when she noticed that I could hear myself in front of her with my voice it had gone up.\",\n",
        "                            \"The old woman was sitting under a tree and saw him in the middle of nowhere.\",\n",
        "                            \"The old woman was sitting under a tree and looking around at the bushes.\",\n",
        "                            \"The old woman was sitting under a tree and gulping cocktail.\",\n",
        "                            \"The old woman was sitting under a tree and staring at her, making the decision to leave.\",\n",
        "                            \"The old woman was sitting under a tree and the man in his thirties came around her with some scissors, sawing it all as if she'd eaten him for lunch.\",\n",
        "                            \"The old woman was sitting under a tree and staring at the window.\",\n",
        "                            \"The old woman was sitting under a tree and she said, 'You know what?'\",\n",
        "                            \"The old woman was sitting under a tree and staring at her like she would become the next, or whatever it looked.\",\n",
        "                            \"The old woman was sitting under a tree and drinking tea.\"]\n",
        "\n",
        "\n",
        "\n",
        "original_sentence = \"The old woman was sitting under a tree and sipping coffee.\"\n",
        "\n",
        "print(original_sentence)"
      ],
      "execution_count": 3,
      "outputs": [
        {
          "output_type": "stream",
          "name": "stdout",
          "text": [
            "The old woman was sitting under a tree and sipping coffee.\n"
          ]
        }
      ]
    },
    {
      "cell_type": "code",
      "metadata": {
        "id": "DPFNix78os2V"
      },
      "source": [
        "false_sentences_embeddings = BERT_model.encode(possible_false_sentences)\n",
        "original_sentence_embedding = BERT_model.encode([original_sentence])"
      ],
      "execution_count": 4,
      "outputs": []
    },
    {
      "cell_type": "code",
      "metadata": {
        "colab": {
          "base_uri": "https://localhost:8080/"
        },
        "id": "iMZTTilyr5Xg",
        "outputId": "a602de47-eec1-44b2-e1c1-614135c557a5"
      },
      "source": [
        "import scipy\n",
        "# https://docs.scipy.org/doc/scipy/reference/generated/scipy.spatial.distance.cdist.html\n",
        "distances = scipy.spatial.distance.cdist(original_sentence_embedding, false_sentences_embeddings, \"cosine\")[0]\n",
        "print (distances)"
      ],
      "execution_count": 5,
      "outputs": [
        {
          "output_type": "stream",
          "name": "stdout",
          "text": [
            "[0.59552445 0.5226125  0.61013786 0.61484172 0.44246868 0.27653319\n",
            " 0.44102621 0.63589507 0.38027598 0.38613733 0.50199748 0.23803738]\n"
          ]
        }
      ]
    },
    {
      "cell_type": "code",
      "metadata": {
        "colab": {
          "base_uri": "https://localhost:8080/"
        },
        "id": "jUiJL-sJt5vt",
        "outputId": "920b4d16-60bb-4468-f821-d88094733c8d"
      },
      "source": [
        "results = zip(range(len(distances)), distances)\n",
        "results = sorted(results, key=lambda x: x[1])\n",
        "print (results)"
      ],
      "execution_count": 6,
      "outputs": [
        {
          "output_type": "stream",
          "name": "stdout",
          "text": [
            "[(11, 0.23803737874579167), (5, 0.2765331871115938), (8, 0.38027598113827676), (9, 0.3861373259954447), (6, 0.44102620798136616), (4, 0.4424686849374003), (10, 0.5019974788274273), (1, 0.5226125028120148), (0, 0.5955244484384943), (2, 0.61013785759196), (3, 0.6148417201536028), (7, 0.6358950740919798)]\n"
          ]
        }
      ]
    },
    {
      "cell_type": "code",
      "metadata": {
        "colab": {
          "base_uri": "https://localhost:8080/"
        },
        "id": "9ElQb1MGGddx",
        "outputId": "f14ce284-2f99-42e8-a813-50b4a7d3f565"
      },
      "source": [
        "dissimilar_sentences =[]\n",
        "for idx, distance in results:\n",
        "  dissimilar_sentences.append(possible_false_sentences[idx])\n",
        "  print (possible_false_sentences[idx])"
      ],
      "execution_count": 7,
      "outputs": [
        {
          "output_type": "stream",
          "name": "stdout",
          "text": [
            "The old woman was sitting under a tree and drinking tea.\n",
            "The old woman was sitting under a tree and gulping cocktail.\n",
            "The old woman was sitting under a tree and staring at the window.\n",
            "The old woman was sitting under a tree and she said, 'You know what?'\n",
            "The old woman was sitting under a tree and staring at her, making the decision to leave.\n",
            "The old woman was sitting under a tree and looking around at the bushes.\n",
            "The old woman was sitting under a tree and staring at her like she would become the next, or whatever it looked.\n",
            "The old woman was sitting under a tree and had to look at her face.\n",
            "The old woman was sitting under a tree and there were four men, each wearing dark clothing.\n",
            "The old woman was sitting under a tree and talking to the other lady, but when she noticed that I could hear myself in front of her with my voice it had gone up.\n",
            "The old woman was sitting under a tree and saw him in the middle of nowhere.\n",
            "The old woman was sitting under a tree and the man in his thirties came around her with some scissors, sawing it all as if she'd eaten him for lunch.\n"
          ]
        }
      ]
    },
    {
      "cell_type": "code",
      "metadata": {
        "colab": {
          "base_uri": "https://localhost:8080/"
        },
        "id": "nGNSymSMIn67",
        "outputId": "e79b0acb-9cc6-46c0-f11f-1890330a13c8"
      },
      "source": [
        "false_sentences_list_final = reversed(dissimilar_sentences)\n",
        "for sent in false_sentences_list_final:\n",
        "  print (sent)"
      ],
      "execution_count": 8,
      "outputs": [
        {
          "output_type": "stream",
          "name": "stdout",
          "text": [
            "The old woman was sitting under a tree and the man in his thirties came around her with some scissors, sawing it all as if she'd eaten him for lunch.\n",
            "The old woman was sitting under a tree and saw him in the middle of nowhere.\n",
            "The old woman was sitting under a tree and talking to the other lady, but when she noticed that I could hear myself in front of her with my voice it had gone up.\n",
            "The old woman was sitting under a tree and there were four men, each wearing dark clothing.\n",
            "The old woman was sitting under a tree and had to look at her face.\n",
            "The old woman was sitting under a tree and staring at her like she would become the next, or whatever it looked.\n",
            "The old woman was sitting under a tree and looking around at the bushes.\n",
            "The old woman was sitting under a tree and staring at her, making the decision to leave.\n",
            "The old woman was sitting under a tree and she said, 'You know what?'\n",
            "The old woman was sitting under a tree and staring at the window.\n",
            "The old woman was sitting under a tree and gulping cocktail.\n",
            "The old woman was sitting under a tree and drinking tea.\n"
          ]
        }
      ]
    }
  ]
}